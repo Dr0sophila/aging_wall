{
 "cells": [
  {
   "cell_type": "code",
   "execution_count": 11,
   "outputs": [
    {
     "name": "stdout",
     "output_type": "stream",
     "text": [
      "Positives done: 1324 files -> E:/data/Aging_walls/processed/positive\n",
      "Negatives done: 1303 images -> E:/data/Aging_walls/processed/negative\\images\n",
      "              labels -> E:/data/Aging_walls/processed/negative\\labels\n"
     ]
    }
   ],
   "source": [
    "import os\n",
    "import shutil\n",
    "from PIL import Image\n",
    "import yaml\n",
    "\n",
    "def ensure_dir(p):\n",
    "    os.makedirs(p, exist_ok=True)\n",
    "    return p\n",
    "\n",
    "def list_imgs(dirpath):\n",
    "    # Accept .jpg / .jpeg (case-insensitive)\n",
    "    exts = {\".jpg\", \".JPG\"}\n",
    "    files = [f for f in os.listdir(dirpath) if os.path.splitext(f)[1].lower() in exts]\n",
    "    files.sort()\n",
    "    return files\n",
    "\n",
    "# ---------- load config ----------\n",
    "with open(\"../config/config.yml\", \"r\", encoding=\"utf-8\") as f:\n",
    "    cfg = yaml.safe_load(f)\n",
    "\n",
    "o_positive_path = cfg[\"paths\"][\"o_positive_path\"]\n",
    "positive_path   = cfg[\"paths\"][\"positive_path\"]\n",
    "\n",
    "o_neg_img_path  = cfg[\"paths\"][\"o_negative_path\"] + \"/images\"\n",
    "o_neg_lbl_path  = cfg[\"paths\"][\"o_negative_path\"] + \"/labels\"\n",
    "neg_out_root    = cfg[\"paths\"][\"negative_path\"]\n",
    "\n",
    "neg_out_img = ensure_dir(os.path.join(neg_out_root, \"images\"))\n",
    "neg_out_lbl = ensure_dir(os.path.join(neg_out_root, \"labels\"))\n",
    "\n",
    "# ---------- positives: rename to 0.JPG, 1.JPG, ... ----------\n",
    "ensure_dir(positive_path)\n",
    "pos_files = list_imgs(o_positive_path)\n",
    "\n",
    "for idx, filename in enumerate(pos_files):\n",
    "    src = os.path.join(o_positive_path, filename)\n",
    "    with Image.open(src) as img:\n",
    "        dst = os.path.join(positive_path, f\"{idx}.JPG\")\n",
    "        img.save(dst)\n",
    "print(f\"Positives done: {len(pos_files)} files -> {positive_path}\")\n",
    "\n",
    "# ---------- negatives: images + matching labels ----------\n",
    "neg_img_files = list_imgs(o_neg_img_path)\n",
    "\n",
    "missing_labels = []\n",
    "for idx, filename in enumerate(neg_img_files):\n",
    "    stem, _ = os.path.splitext(filename)\n",
    "    img_src = os.path.join(o_neg_img_path, filename)\n",
    "    lbl_src = os.path.join(o_neg_lbl_path, f\"{stem}.txt\")\n",
    "\n",
    "    # save image as idx.JPG\n",
    "    with Image.open(img_src) as img:\n",
    "        img_dst = os.path.join(neg_out_img, f\"{idx}.JPG\")\n",
    "        img.save(img_dst)\n",
    "\n",
    "    # copy label as idx.txt (if exists)\n",
    "    if os.path.exists(lbl_src):\n",
    "        lbl_dst = os.path.join(neg_out_lbl, f\"{idx}.txt\")\n",
    "        shutil.copyfile(lbl_src, lbl_dst)\n",
    "    else:\n",
    "        missing_labels.append(stem)\n",
    "\n",
    "print(f\"Negatives done: {len(neg_img_files)} images -> {neg_out_img}\")\n",
    "print(f\"              labels -> {neg_out_lbl}\")\n",
    "if missing_labels:\n",
    "    print(f\"Warning: {len(missing_labels)} image(s) had no matching .txt label:\")\n",
    "    for s in missing_labels[:10]:\n",
    "        print(f\"  - {s}.txt\")\n",
    "    if len(missing_labels) > 10:\n",
    "        print(\"  ...\")\n"
   ],
   "metadata": {
    "collapsed": false,
    "ExecuteTime": {
     "end_time": "2025-08-28T18:07:40.937317400Z",
     "start_time": "2025-08-28T18:03:47.878237900Z"
    }
   }
  }
 ],
 "metadata": {
  "kernelspec": {
   "display_name": "Python 3",
   "language": "python",
   "name": "python3"
  },
  "language_info": {
   "codemirror_mode": {
    "name": "ipython",
    "version": 2
   },
   "file_extension": ".py",
   "mimetype": "text/x-python",
   "name": "python",
   "nbconvert_exporter": "python",
   "pygments_lexer": "ipython2",
   "version": "2.7.6"
  }
 },
 "nbformat": 4,
 "nbformat_minor": 0
}
